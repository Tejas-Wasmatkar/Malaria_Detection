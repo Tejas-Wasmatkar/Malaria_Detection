{
 "cells": [
  {
   "cell_type": "code",
   "execution_count": 1,
   "metadata": {},
   "outputs": [
    {
     "name": "stdout",
     "output_type": "stream",
     "text": [
      "2.2.0\n"
     ]
    }
   ],
   "source": [
    "import numpy as np\n",
    "import matplotlib.pyplot as plt\n",
    "import tensorflow as tf\n",
    "from tensorflow import keras\n",
    "from tensorflow.keras import Sequential\n",
    "from tensorflow.keras.layers import Flatten,Dense,Conv2D,MaxPool2D,ZeroPadding2D,Dropout\n",
    "from tensorflow.keras.preprocessing.image import ImageDataGenerator\n",
    "from tensorflow.keras import optimizers\n",
    "print(tf.__version__)"
   ]
  },
  {
   "cell_type": "code",
   "execution_count": 2,
   "metadata": {},
   "outputs": [],
   "source": [
    "train_dir = r\"C:/Users/TEJAS/Desktop/Maleria Detection/cell_images/cell_images\"\n",
    "test_dir =  r\"C:/Users/TEJAS/Desktop/Maleria Detection/cell_images/cell_images\""
   ]
  },
  {
   "cell_type": "code",
   "execution_count": 3,
   "metadata": {},
   "outputs": [],
   "source": [
    "img_width = 64\n",
    "img_height = 64"
   ]
  },
  {
   "cell_type": "code",
   "execution_count": 4,
   "metadata": {},
   "outputs": [],
   "source": [
    "datagen = ImageDataGenerator(rescale=1/255.0,validation_split=0.2)"
   ]
  },
  {
   "cell_type": "code",
   "execution_count": 5,
   "metadata": {},
   "outputs": [
    {
     "name": "stdout",
     "output_type": "stream",
     "text": [
      "Found 22048 images belonging to 2 classes.\n",
      "Found 5510 images belonging to 2 classes.\n"
     ]
    }
   ],
   "source": [
    "train_data_generator = datagen.flow_from_directory(directory= train_dir,\n",
    "                                                   target_size = (img_width,img_height),\n",
    "                                                   class_mode = \"binary\",\n",
    "                                                   batch_size = 16,\n",
    "                                                   subset = \"training\"\n",
    "                                                   ) \n",
    "\n",
    "validation_data_generator = datagen.flow_from_directory(directory= train_dir,\n",
    "                                                   target_size = (img_width,img_height),\n",
    "                                                   class_mode = \"binary\",\n",
    "                                                   batch_size = 16,\n",
    "                                                   subset = \"validation\"\n",
    "                                                   )  "
   ]
  },
  {
   "cell_type": "code",
   "execution_count": 6,
   "metadata": {},
   "outputs": [
    {
     "data": {
      "text/plain": [
       "array([0, 0, 0, ..., 1, 1, 1])"
      ]
     },
     "execution_count": 6,
     "metadata": {},
     "output_type": "execute_result"
    }
   ],
   "source": [
    "train_data_generator.labels"
   ]
  },
  {
   "cell_type": "code",
   "execution_count": 7,
   "metadata": {},
   "outputs": [],
   "source": [
    "model =  Sequential()\n",
    "\n",
    "model.add(Conv2D(16,(3,3),input_shape = (img_width,img_height,3),activation = \"relu\"))\n",
    "model.add(MaxPool2D(2,2))\n",
    "model.add(Dropout(0.3))\n",
    "\n",
    "model.add(Conv2D(32,(3,3),activation = \"relu\"))\n",
    "model.add(MaxPool2D(2,2))\n",
    "model.add(Dropout(0.3))\n",
    "\n",
    "model.add(Flatten())\n",
    "model.add(Dense(64,activation = \"relu\"))\n",
    "model.add(Dropout(0.5))\n",
    "model.add(Dense(1,activation = \"sigmoid\"))"
   ]
  },
  {
   "cell_type": "code",
   "execution_count": 8,
   "metadata": {},
   "outputs": [
    {
     "name": "stdout",
     "output_type": "stream",
     "text": [
      "Model: \"sequential\"\n",
      "_________________________________________________________________\n",
      "Layer (type)                 Output Shape              Param #   \n",
      "=================================================================\n",
      "conv2d (Conv2D)              (None, 62, 62, 16)        448       \n",
      "_________________________________________________________________\n",
      "max_pooling2d (MaxPooling2D) (None, 31, 31, 16)        0         \n",
      "_________________________________________________________________\n",
      "dropout (Dropout)            (None, 31, 31, 16)        0         \n",
      "_________________________________________________________________\n",
      "conv2d_1 (Conv2D)            (None, 29, 29, 32)        4640      \n",
      "_________________________________________________________________\n",
      "max_pooling2d_1 (MaxPooling2 (None, 14, 14, 32)        0         \n",
      "_________________________________________________________________\n",
      "dropout_1 (Dropout)          (None, 14, 14, 32)        0         \n",
      "_________________________________________________________________\n",
      "flatten (Flatten)            (None, 6272)              0         \n",
      "_________________________________________________________________\n",
      "dense (Dense)                (None, 64)                401472    \n",
      "_________________________________________________________________\n",
      "dropout_2 (Dropout)          (None, 64)                0         \n",
      "_________________________________________________________________\n",
      "dense_1 (Dense)              (None, 1)                 65        \n",
      "=================================================================\n",
      "Total params: 406,625\n",
      "Trainable params: 406,625\n",
      "Non-trainable params: 0\n",
      "_________________________________________________________________\n"
     ]
    }
   ],
   "source": [
    "model.summary()"
   ]
  },
  {
   "cell_type": "code",
   "execution_count": 9,
   "metadata": {},
   "outputs": [],
   "source": [
    "model.compile(optimizer = \"adam\", loss = \"binary_crossentropy\", metrics = [\"accuracy\"])"
   ]
  },
  {
   "cell_type": "code",
   "execution_count": 10,
   "metadata": {},
   "outputs": [
    {
     "name": "stdout",
     "output_type": "stream",
     "text": [
      "WARNING:tensorflow:From <ipython-input-10-69eed0d567f4>:5: Model.fit_generator (from tensorflow.python.keras.engine.training) is deprecated and will be removed in a future version.\n",
      "Instructions for updating:\n",
      "Please use Model.fit, which supports generators.\n",
      "Epoch 1/10\n",
      "1378/1378 [==============================] - 77s 56ms/step - loss: 0.5585 - accuracy: 0.7101 - val_loss: 0.3200 - val_accuracy: 0.9140\n",
      "Epoch 2/10\n",
      "1378/1378 [==============================] - 83s 60ms/step - loss: 0.2928 - accuracy: 0.9129 - val_loss: 0.2442 - val_accuracy: 0.9256\n",
      "Epoch 3/10\n",
      "1378/1378 [==============================] - 85s 62ms/step - loss: 0.2182 - accuracy: 0.9278 - val_loss: 0.2099 - val_accuracy: 0.9305\n",
      "Epoch 4/10\n",
      "1378/1378 [==============================] - 86s 62ms/step - loss: 0.1998 - accuracy: 0.9304 - val_loss: 0.1694 - val_accuracy: 0.9434\n",
      "Epoch 5/10\n",
      "1378/1378 [==============================] - 85s 62ms/step - loss: 0.1829 - accuracy: 0.9433 - val_loss: 0.1722 - val_accuracy: 0.9385\n",
      "Epoch 6/10\n",
      "1378/1378 [==============================] - 85s 62ms/step - loss: 0.1709 - accuracy: 0.9457 - val_loss: 0.1627 - val_accuracy: 0.9399\n",
      "Epoch 7/10\n",
      "1378/1378 [==============================] - 86s 63ms/step - loss: 0.1630 - accuracy: 0.9488 - val_loss: 0.1610 - val_accuracy: 0.9407\n",
      "Epoch 8/10\n",
      "1378/1378 [==============================] - 83s 60ms/step - loss: 0.1614 - accuracy: 0.9492 - val_loss: 0.1655 - val_accuracy: 0.9339\n",
      "Epoch 9/10\n",
      "1378/1378 [==============================] - 84s 61ms/step - loss: 0.1536 - accuracy: 0.9520 - val_loss: 0.1693 - val_accuracy: 0.9325\n",
      "Epoch 10/10\n",
      "1378/1378 [==============================] - 84s 61ms/step - loss: 0.1449 - accuracy: 0.9530 - val_loss: 0.1602 - val_accuracy: 0.9423\n"
     ]
    }
   ],
   "source": [
    "history = model.fit_generator(generator = train_data_generator,\n",
    "                              steps_per_epoch =len(train_data_generator),\n",
    "                              epochs = 10,\n",
    "                              validation_data = validation_data_generator,\n",
    "                              validation_steps = len(validation_data_generator)\n",
    "                              \n",
    "                              )"
   ]
  },
  {
   "cell_type": "code",
   "execution_count": 11,
   "metadata": {},
   "outputs": [
    {
     "data": {
      "text/plain": [
       "{'loss': [0.558465301990509,\n",
       "  0.29278698563575745,\n",
       "  0.21817348897457123,\n",
       "  0.1998177170753479,\n",
       "  0.18294815719127655,\n",
       "  0.17094215750694275,\n",
       "  0.16302931308746338,\n",
       "  0.1613854467868805,\n",
       "  0.15362071990966797,\n",
       "  0.14489804208278656],\n",
       " 'accuracy': [0.7101324200630188,\n",
       "  0.9128718972206116,\n",
       "  0.9277939200401306,\n",
       "  0.9303791522979736,\n",
       "  0.943305492401123,\n",
       "  0.9456639885902405,\n",
       "  0.9488388895988464,\n",
       "  0.9492471218109131,\n",
       "  0.9519684314727783,\n",
       "  0.9530116319656372],\n",
       " 'val_loss': [0.3200238049030304,\n",
       "  0.24419324100017548,\n",
       "  0.20985892415046692,\n",
       "  0.16936251521110535,\n",
       "  0.17221848666667938,\n",
       "  0.1626671999692917,\n",
       "  0.1610206663608551,\n",
       "  0.16548587381839752,\n",
       "  0.16931164264678955,\n",
       "  0.16016653180122375],\n",
       " 'val_accuracy': [0.9139745831489563,\n",
       "  0.9255898594856262,\n",
       "  0.9304900169372559,\n",
       "  0.9433757066726685,\n",
       "  0.938475489616394,\n",
       "  0.9399273991584778,\n",
       "  0.940653383731842,\n",
       "  0.9339382648468018,\n",
       "  0.9324864149093628,\n",
       "  0.9422867298126221]}"
      ]
     },
     "execution_count": 11,
     "metadata": {},
     "output_type": "execute_result"
    }
   ],
   "source": [
    "history.history"
   ]
  },
  {
   "cell_type": "code",
   "execution_count": 12,
   "metadata": {},
   "outputs": [],
   "source": [
    "def plot_learningcurve(history,epoch):\n",
    "    epoch_range = range(1,epoch + 1)\n",
    "    plt.plot(epoch_range,history.history[\"accuracy\"])\n",
    "    plt.plot(epoch_range,history.history[\"val_accuracy\"])\n",
    "    plt.title(\"Model Accuracy\")\n",
    "    plt.ylabel(\"Accuracy\")\n",
    "    plt.xlabel(\"Epoch\")\n",
    "    plt.legend([\"Train\",\"val\"],loc = \"upper_left\")\n",
    "    plt.show()\n",
    "    \n",
    "\n",
    "    plt.plot(epoch_range,history.history[\"loss\"])\n",
    "    plt.plot(epoch_range,history.history[\"val_loss\"])\n",
    "    plt.title(\"Model Loss\")\n",
    "    plt.ylabel(\"Loss\")\n",
    "    plt.xlabel(\"Epoch\")\n",
    "    plt.legend([\"Train\",\"val\"],loc = \"upper_left\")\n",
    "    plt.show()"
   ]
  },
  {
   "cell_type": "code",
   "execution_count": 14,
   "metadata": {},
   "outputs": [
    {
     "name": "stderr",
     "output_type": "stream",
     "text": [
      "F:\\Anaconda\\lib\\site-packages\\ipykernel_launcher.py:8: MatplotlibDeprecationWarning: Unrecognized location 'upper_left'. Falling back on 'best'; valid locations are\n",
      "\tbest\n",
      "\tupper right\n",
      "\tupper left\n",
      "\tlower left\n",
      "\tlower right\n",
      "\tright\n",
      "\tcenter left\n",
      "\tcenter right\n",
      "\tlower center\n",
      "\tupper center\n",
      "\tcenter\n",
      "This will raise an exception in 3.3.\n",
      "  \n"
     ]
    },
    {
     "data": {
      "image/png": "[encoded data removed]",
      "text/plain": [
       "<Figure size 432x288 with 1 Axes>"
      ]
     },
     "metadata": {
      "needs_background": "light"
     },
     "output_type": "display_data"
    },
    {
     "name": "stderr",
     "output_type": "stream",
     "text": [
      "F:\\Anaconda\\lib\\site-packages\\ipykernel_launcher.py:17: MatplotlibDeprecationWarning: Unrecognized location 'upper_left'. Falling back on 'best'; valid locations are\n",
      "\tbest\n",
      "\tupper right\n",
      "\tupper left\n",
      "\tlower left\n",
      "\tlower right\n",
      "\tright\n",
      "\tcenter left\n",
      "\tcenter right\n",
      "\tlower center\n",
      "\tupper center\n",
      "\tcenter\n",
      "This will raise an exception in 3.3.\n"
     ]
    },
    {
     "data": {
      "image/png": "[encoded data removed]",
      "text/plain": [
       "<Figure size 432x288 with 1 Axes>"
      ]
     },
     "metadata": {
      "needs_background": "light"
     },
     "output_type": "display_data"
    }
   ],
   "source": [
    "plot_learningcurve(history,10)"
   ]
  },
  {
   "cell_type": "code",
   "execution_count": null,
   "metadata": {},
   "outputs": [],
   "source": [
    "model.save(\"maleria_final.h5\")"
   ]
  },
  {
   "cell_type": "code",
   "execution_count": 17,
   "metadata": {},
   "outputs": [
    {
     "data": {
      "text/plain": [
       "array([[9.6030658e-01],\n",
       "       [6.8809932e-01],\n",
       "       [1.5950459e-06],\n",
       "       ...,\n",
       "       [8.8555214e-04],\n",
       "       [9.8386729e-01],\n",
       "       [8.6749773e-05]], dtype=float32)"
      ]
     },
     "execution_count": 17,
     "metadata": {},
     "output_type": "execute_result"
    }
   ],
   "source": [
    "model.predict(validation_data_generator)"
   ]
  },
  {
   "cell_type": "code",
   "execution_count": null,
   "metadata": {},
   "outputs": [],
   "source": []
  }
 ],
 "metadata": {
  "kernelspec": {
   "display_name": "Python 3",
   "language": "python",
   "name": "python3"
  },
  "language_info": {
   "codemirror_mode": {
    "name": "ipython",
    "version": 3
   },
   "file_extension": ".py",
   "mimetype": "text/x-python",
   "name": "python",
   "nbconvert_exporter": "python",
   "pygments_lexer": "ipython3",
   "version": "3.7.6"
  }
 },
 "nbformat": 4,
 "nbformat_minor": 4
}
